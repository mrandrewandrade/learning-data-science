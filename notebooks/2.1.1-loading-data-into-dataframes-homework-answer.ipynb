{
 "cells": [
  {
   "cell_type": "markdown",
   "metadata": {},
   "source": [
    "# 2.1.1 Loading Data Into DataFrames Homework Answer\n",
    "\n",
    "Data Science Field Guide\n",
    "\n",
    "Author: Andrew Andrade\n",
    "\n",
    "## Homework\n",
    "\n",
    "Load the remainder of the Anscombe's quartet and calculate the mean and the standard deviation.\n",
    "\n",
    "The links are the following:\n",
    "\n",
    "[anscombe_ii.csv](https://raw.githubusercontent.com/mrandrewandrade/learning-data-science/master/datasets/anscombe_ii.csv)\n",
    "\n",
    "[anscombe_iii.csv](https://raw.githubusercontent.com/mrandrewandrade/learning-data-science/master/datasets/anscombe_iii.csv)\n",
    "\n",
    "[anscombe_iv.csv](https://raw.githubusercontent.com/mrandrewandrade/learning-data-science/master/datasets/anscombe_iv.csv)\n",
    "\n",
    "## Answer"
   ]
  },
  {
   "cell_type": "code",
   "execution_count": 1,
   "metadata": {
    "collapsed": false
   },
   "outputs": [
    {
     "name": "stdout",
     "output_type": "stream",
     "text": [
      "Data Set I\n",
      "             x         y\n",
      "mean  9.000000  7.500909\n",
      "std   3.316625  2.031568\n",
      "\n",
      " Data Set II\n",
      "             x         y\n",
      "mean  9.000000  7.500909\n",
      "std   3.316625  2.031657\n",
      "\n",
      " Data Set III\n",
      "             x         y\n",
      "mean  9.000000  7.500000\n",
      "std   3.316625  2.030424\n",
      "\n",
      " Data Set IV\n",
      "             x         y\n",
      "mean  9.000000  7.500909\n",
      "std   3.316625  2.030579\n"
     ]
    }
   ],
   "source": [
    "import pandas as pd\n",
    "\n",
    "# load datasets\n",
    "anscombe_i = pd.read_csv('../datasets/anscombe_i.csv')\n",
    "anscombe_ii = pd.read_csv('../datasets/anscombe_ii.csv')\n",
    "anscombe_iii = pd.read_csv('../datasets/anscombe_iii.csv')\n",
    "anscombe_iv = pd.read_csv('../datasets/anscombe_iv.csv')\n",
    "\n",
    "# calculate the mean and standard deviation for each\n",
    "print \"Data Set I\"\n",
    "print anscombe_i.describe()[1:3]\n",
    "print \"\\n Data Set II\"\n",
    "print anscombe_ii.describe()[1:3]\n",
    "print \"\\n Data Set III\"\n",
    "print anscombe_iii.describe()[1:3]\n",
    "print \"\\n Data Set IV\"\n",
    "print anscombe_iv.describe()[1:3]"
   ]
  }
 ],
 "metadata": {
  "anaconda-cloud": {},
  "kernelspec": {
   "display_name": "Python [default]",
   "language": "python",
   "name": "python2"
  },
  "language_info": {
   "codemirror_mode": {
    "name": "ipython",
    "version": 2
   },
   "file_extension": ".py",
   "mimetype": "text/x-python",
   "name": "python",
   "nbconvert_exporter": "python",
   "pygments_lexer": "ipython2",
   "version": "2.7.12"
  }
 },
 "nbformat": 4,
 "nbformat_minor": 1
}
