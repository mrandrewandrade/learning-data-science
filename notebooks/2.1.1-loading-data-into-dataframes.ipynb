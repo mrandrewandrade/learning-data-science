{
 "cells": [
  {
   "cell_type": "markdown",
   "metadata": {},
   "source": [
    "# 2.1.1 Loading Data Into DataFrames\n",
    "\n",
    "Data Science Field Guide\n",
    "\n",
    "Author: Andrew Andrade\n",
    "\n",
    "### Prerequisites:\n",
    "\n",
    "1. Python, Ipython, Jupyter Notebook, pandas installed\n",
    "\n",
    "2. `anscombe_i.csv` downloaded into a `datasets/` folder\n",
    "\n",
    "If the prerequisites have not been met, please follow instructions in volume one.\n",
    "\n",
    "\n",
    "## Opening a Jupyter/Ipython notebook and loading pandas\n",
    "\n",
    "\n",
    "\n",
    "### Opening Jupyter Notebook\n",
    "\n",
    "For Window's users, double click the `jupyter notebook` icon.  For *nix users, run `jupyter notebook` in terminal from the `~/learning-data-science/notebooks` directory.\n",
    "\n",
    "\n",
    "### Load the Pandas library\n"
   ]
  },
  {
   "cell_type": "code",
   "execution_count": 1,
   "metadata": {
    "collapsed": true
   },
   "outputs": [],
   "source": [
    "import pandas as pd"
   ]
  },
  {
   "cell_type": "markdown",
   "metadata": {},
   "source": [
    "## Loading data into a Pandas DataFrame\n",
    "\n",
    "\n",
    "We can now load the dataset and save is as `anscombe_i`"
   ]
  },
  {
   "cell_type": "code",
   "execution_count": 2,
   "metadata": {
    "collapsed": false
   },
   "outputs": [],
   "source": [
    "anscombe_i = pd.read_csv('../datasets/anscombe_i.csv')"
   ]
  },
  {
   "cell_type": "markdown",
   "metadata": {},
   "source": [
    "## View DataFrame and calculate summary statistics\n",
    "\n",
    "We can quickly view more about the dataframe:"
   ]
  },
  {
   "cell_type": "code",
   "execution_count": 3,
   "metadata": {
    "collapsed": false
   },
   "outputs": [
    {
     "name": "stdout",
     "output_type": "stream",
     "text": [
      "Index([u'x', u'y'], dtype='object')\n",
      "    x     y\n",
      "0  10  8.04\n",
      "1   8  6.95\n",
      "2  13  7.58\n",
      "3   9  8.81\n",
      "4  11  8.33\n"
     ]
    },
    {
     "data": {
      "text/html": [
       "<div>\n",
       "<table border=\"1\" class=\"dataframe\">\n",
       "  <thead>\n",
       "    <tr style=\"text-align: right;\">\n",
       "      <th></th>\n",
       "      <th>x</th>\n",
       "      <th>y</th>\n",
       "    </tr>\n",
       "  </thead>\n",
       "  <tbody>\n",
       "    <tr>\n",
       "      <th>count</th>\n",
       "      <td>11.000000</td>\n",
       "      <td>11.000000</td>\n",
       "    </tr>\n",
       "    <tr>\n",
       "      <th>mean</th>\n",
       "      <td>9.000000</td>\n",
       "      <td>7.500909</td>\n",
       "    </tr>\n",
       "    <tr>\n",
       "      <th>std</th>\n",
       "      <td>3.316625</td>\n",
       "      <td>2.031568</td>\n",
       "    </tr>\n",
       "    <tr>\n",
       "      <th>min</th>\n",
       "      <td>4.000000</td>\n",
       "      <td>4.260000</td>\n",
       "    </tr>\n",
       "    <tr>\n",
       "      <th>25%</th>\n",
       "      <td>6.500000</td>\n",
       "      <td>6.315000</td>\n",
       "    </tr>\n",
       "    <tr>\n",
       "      <th>50%</th>\n",
       "      <td>9.000000</td>\n",
       "      <td>7.580000</td>\n",
       "    </tr>\n",
       "    <tr>\n",
       "      <th>75%</th>\n",
       "      <td>11.500000</td>\n",
       "      <td>8.570000</td>\n",
       "    </tr>\n",
       "    <tr>\n",
       "      <th>max</th>\n",
       "      <td>14.000000</td>\n",
       "      <td>10.840000</td>\n",
       "    </tr>\n",
       "  </tbody>\n",
       "</table>\n",
       "</div>"
      ],
      "text/plain": [
       "               x          y\n",
       "count  11.000000  11.000000\n",
       "mean    9.000000   7.500909\n",
       "std     3.316625   2.031568\n",
       "min     4.000000   4.260000\n",
       "25%     6.500000   6.315000\n",
       "50%     9.000000   7.580000\n",
       "75%    11.500000   8.570000\n",
       "max    14.000000  10.840000"
      ]
     },
     "execution_count": 3,
     "metadata": {},
     "output_type": "execute_result"
    }
   ],
   "source": [
    "# View column name\n",
    "print anscombe_i.columns\n",
    "\n",
    "# print first five rows of dataframe\n",
    "print anscombe_i.head()\n",
    "\n",
    "# Descriptive statistics\n",
    "anscombe_i.describe()"
   ]
  },
  {
   "cell_type": "markdown",
   "metadata": {},
   "source": [
    "We can also just look at the mean and the standard deviation"
   ]
  },
  {
   "cell_type": "code",
   "execution_count": 4,
   "metadata": {
    "collapsed": false
   },
   "outputs": [
    {
     "name": "stdout",
     "output_type": "stream",
     "text": [
      "Data Set I\n",
      "             x         y\n",
      "mean  9.000000  7.500909\n",
      "std   3.316625  2.031568\n"
     ]
    }
   ],
   "source": [
    "print \"Data Set I\"\n",
    "print anscombe_i.describe()[1:3]"
   ]
  },
  {
   "cell_type": "markdown",
   "metadata": {},
   "source": [
    "## Homework\n",
    "\n",
    "Load the remainder of the Anscombe's quartet and calculate the mean and the standard deviation.\n",
    "\n",
    "The links are the following:\n",
    "\n",
    "[anscombe_ii.csv](https://raw.githubusercontent.com/mrandrewandrade/learning-data-science/master/datasets/anscombe_ii.csv)\n",
    "\n",
    "[anscombe_iii.csv](https://raw.githubusercontent.com/mrandrewandrade/learning-data-science/master/datasets/anscombe_iii.csv)\n",
    "\n",
    "[anscombe_iv.csv](https://raw.githubusercontent.com/mrandrewandrade/learning-data-science/master/datasets/anscombe_iv.csv)\n",
    "\n"
   ]
  }
 ],
 "metadata": {
  "anaconda-cloud": {},
  "kernelspec": {
   "display_name": "Python [default]",
   "language": "python",
   "name": "python2"
  },
  "language_info": {
   "codemirror_mode": {
    "name": "ipython",
    "version": 2
   },
   "file_extension": ".py",
   "mimetype": "text/x-python",
   "name": "python",
   "nbconvert_exporter": "python",
   "pygments_lexer": "ipython2",
   "version": "2.7.12"
  }
 },
 "nbformat": 4,
 "nbformat_minor": 1
}
